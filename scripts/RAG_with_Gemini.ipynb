{
  "cells": [
    {
      "cell_type": "markdown",
      "metadata": {},
      "source": [
        "Test\n"
      ]
    },
    {
      "cell_type": "markdown",
      "metadata": {},
      "source": [
        "### <a id='toc1_1_1_'></a>[Importing libraries](#toc0_)"
      ]
    },
    {
      "cell_type": "code",
      "execution_count": 1,
      "metadata": {
        "id": "muuhsDmmKdHi"
      },
      "outputs": [
        {
          "name": "stderr",
          "output_type": "stream",
          "text": [
            "/Users/wesleymaa/Downloads/LegalTechRAG/env/lib/python3.10/site-packages/tqdm/auto.py:21: TqdmWarning: IProgress not found. Please update jupyter and ipywidgets. See https://ipywidgets.readthedocs.io/en/stable/user_install.html\n",
            "  from .autonotebook import tqdm as notebook_tqdm\n"
          ]
        }
      ],
      "source": [
        "import os\n",
        "from dotenv import load_dotenv\n",
        "from pprint import pprint\n",
        "\n",
        "import pandas as pd\n",
        "\n",
        "import chromadb\n",
        "from chromadb import Documents, EmbeddingFunction, Embeddings\n",
        "\n",
        "import google.generativeai as genai\n",
        "\n",
        "from IPython.display import Markdown"
      ]
    },
    {
      "cell_type": "markdown",
      "metadata": {},
      "source": [
        "### <a id='toc1_1_2_'></a>[The Gemini API](#toc0_)"
      ]
    },
    {
      "cell_type": "code",
      "execution_count": 2,
      "metadata": {
        "id": "JoCFT6SaiCBX"
      },
      "outputs": [],
      "source": [
        "load_dotenv()\n",
        "\n",
        "api_key = os.getenv('GEMINI_API_KEY')\n",
        "genai.configure(api_key=api_key)"
      ]
    },
    {
      "cell_type": "markdown",
      "metadata": {},
      "source": [
        "#### <a id='toc1_1_2_2_'></a>[Available embedding models](#toc0_)"
      ]
    },
    {
      "cell_type": "code",
      "execution_count": 3,
      "metadata": {
        "colab": {
          "base_uri": "https://localhost:8080/",
          "height": 34
        },
        "id": "Km5d13_FS2Q_",
        "outputId": "5cb68f38-a454-417b-ec90-9d5641b7e689"
      },
      "outputs": [
        {
          "name": "stdout",
          "output_type": "stream",
          "text": [
            "models/embedding-001\n"
          ]
        }
      ],
      "source": [
        "for m in genai.list_models():\n",
        "    if 'embedContent' in m.supported_generation_methods:\n",
        "        print(m.name)"
      ]
    },
    {
      "cell_type": "markdown",
      "metadata": {},
      "source": [
        "### <a id='toc1_1_4_'></a>[The embedding database](#toc0_)"
      ]
    },
    {
      "cell_type": "code",
      "execution_count": 9,
      "metadata": {
        "id": "mF7Uu1kCQsT0"
      },
      "outputs": [],
      "source": [
        "class GeminiEmbeddingFunction(EmbeddingFunction):\n",
        "    def __call__(self, input: Documents) -> Embeddings:\n",
        "        model = 'models/embedding-001'\n",
        "        # for better results, try to provide a title for each input if the corpus is covering a lot of domains\n",
        "        title = \"\"\n",
        "\n",
        "        return genai.embed_content(\n",
        "            model=model,\n",
        "            content=input,\n",
        "            task_type=\"retrieval_document\",\n",
        "            title=title)[\"embedding\"]"
      ]
    },
    {
      "cell_type": "code",
      "execution_count": 10,
      "metadata": {},
      "outputs": [],
      "source": [
        "chroma_client = chromadb.PersistentClient(path=\"../database/\")\n",
        "db = chroma_client.get_or_create_collection(\n",
        "    name=\"sme_db\", embedding_function=GeminiEmbeddingFunction())"
      ]
    },
    {
      "cell_type": "code",
      "execution_count": 4,
      "metadata": {
        "id": "gQdJMbTSLtKE"
      },
      "outputs": [],
      "source": [
        "def get_relevant_passages(query, db, n_results=5):\n",
        "    passages = db.query(query_texts=[query], n_results=n_results)[\n",
        "        'documents'][0]\n",
        "    return passages"
      ]
    },
    {
      "cell_type": "code",
      "execution_count": 15,
      "metadata": {},
      "outputs": [
        {
          "data": {
            "text/markdown": [
              "the United States through testimony and documentation\n",
              "For example, a “commuter alien” may have held and used a PRC  for 7 years, but would not be eligible\n",
              "for naturalization until he or she had actually taken up permanent residence in the United States and\n",
              "maintained such residence for the required statutory period\n",
              "USCIS will review all of the relevant records to determine whether the applicant has met the required\n",
              "period of continuous residence The applicant's testimony will also be considered to determine whether\n",
              "the applicant met the required period of continuous residence \n",
              "[^ 1] See INA 316(a)\n",
              "[^ 2] See INA 316(a) See Chapter 6, Jurisdiction, Place of Residence, and Early Filing [12 USCIS-PM D6]\n",
              "[^ 3] See 8 CFR 3165(a)\n",
              "[^ 4] See Chapter 5, Modifications and Exceptions to Continuous Residence and Physical Presence [12\n",
              "USCIS-PM D5]\n",
              "[^ 5] See Part I, Military Members and their Families [12 USCIS-PM I]\n",
              "[^ 6] See Chapter 4, Physical Presence [12 USCIS-PM D4]"
            ],
            "text/plain": [
              "<IPython.core.display.Markdown object>"
            ]
          },
          "execution_count": 15,
          "metadata": {},
          "output_type": "execute_result"
        }
      ],
      "source": [
        "question = \"What is continuous presence?\"\n",
        "passages = get_relevant_passages(question, db, n_results=5)\n",
        "\n",
        "Markdown(passages[2])"
      ]
    }
  ],
  "metadata": {
    "colab": {
      "name": "vectordb_with_chroma.ipynb",
      "provenance": []
    },
    "kernelspec": {
      "display_name": "Python 3",
      "name": "python3"
    },
    "language_info": {
      "codemirror_mode": {
        "name": "ipython",
        "version": 3
      },
      "file_extension": ".py",
      "mimetype": "text/x-python",
      "name": "python",
      "nbconvert_exporter": "python",
      "pygments_lexer": "ipython3",
      "version": "3.10.5"
    }
  },
  "nbformat": 4,
  "nbformat_minor": 0
}
